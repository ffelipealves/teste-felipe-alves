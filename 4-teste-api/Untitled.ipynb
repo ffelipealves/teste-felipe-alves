{
 "cells": [
  {
   "cell_type": "code",
   "execution_count": 3,
   "id": "86fdf0b9-05cf-403e-a6a4-e358d36d49aa",
   "metadata": {},
   "outputs": [],
   "source": [
    "import pandas as pd"
   ]
  },
  {
   "cell_type": "code",
   "execution_count": 7,
   "id": "61ebcdc8-7fcb-441e-875b-97c21b465fcc",
   "metadata": {},
   "outputs": [],
   "source": [
    "df = pd.read_csv(\"Relatorio_cadop.csv\", sep=\";\", encoding=\"utf-8\")"
   ]
  },
  {
   "cell_type": "code",
   "execution_count": 10,
   "id": "77cc5a84-b303-46ba-8401-d8f732ab7e06",
   "metadata": {},
   "outputs": [
    {
     "data": {
      "text/plain": [
       "0           18 DE JULHO ADMINISTRADORA DE BENEFÍCIOS LTDA\n",
       "1       2B ODONTOLOGIA OPERADORA DE PLANOS ODONTOLÓGIC...\n",
       "2                          2CARE OPERADORA DE SAÚDE LTDA.\n",
       "3                    3S ADMINISTRADORA DE BENEFICIOS LTDA\n",
       "4                A.P.S. ADMINISTRADORA DE BENEFÍCOS LTDA.\n",
       "                              ...                        \n",
       "1101               ZEUX ADMINISTRADORA DE BENEFICIOS LTDA\n",
       "1102                 ZURICH SANTANDER BRASIL ODONTO LTDA.\n",
       "1103           ÁPICE ODONTO ASSISTÊNCIA ODONTOLÓGICA LTDA\n",
       "1104               ÔNIX OPERADORA DE PLANOS DE SAÚDE LTDA\n",
       "1105                       ÚNICA ASSISTENCIA MEDICA LTDA \n",
       "Name: Razao_Social, Length: 1106, dtype: object"
      ]
     },
     "execution_count": 10,
     "metadata": {},
     "output_type": "execute_result"
    }
   ],
   "source": [
    "df[\"Razao_Social\"]"
   ]
  },
  {
   "cell_type": "code",
   "execution_count": null,
   "id": "344c3edc-fc4a-4592-8203-46ed5b430f28",
   "metadata": {},
   "outputs": [],
   "source": []
  }
 ],
 "metadata": {
  "kernelspec": {
   "display_name": "Python 3 (ipykernel)",
   "language": "python",
   "name": "python3"
  },
  "language_info": {
   "codemirror_mode": {
    "name": "ipython",
    "version": 3
   },
   "file_extension": ".py",
   "mimetype": "text/x-python",
   "name": "python",
   "nbconvert_exporter": "python",
   "pygments_lexer": "ipython3",
   "version": "3.12.7"
  }
 },
 "nbformat": 4,
 "nbformat_minor": 5
}
